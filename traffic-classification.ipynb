{
 "cells": [
  {
   "cell_type": "code",
   "execution_count": 2,
   "id": "2836ff4d-8fa8-46ac-917d-40f13cf4e28e",
   "metadata": {
    "tags": []
   },
   "outputs": [],
   "source": [
    "import pandas as pd\n",
    "import numpy as np\n",
    "from sklearn.model_selection import train_test_split\n",
    "from sklearn.preprocessing import StandardScaler, LabelEncoder\n",
    "from sklearn.ensemble import RandomForestClassifier\n",
    "from sklearn.metrics import classification_report, confusion_matrix, accuracy_score\n",
    "import matplotlib.pyplot as plt\n",
    "import seaborn as sns\n",
    "import ast\n",
    "from sklearn.model_selection import GridSearchCV"
   ]
  },
  {
   "cell_type": "code",
   "execution_count": 3,
   "id": "d471cc30-5f73-4925-bc7f-47ef7744838f",
   "metadata": {
    "tags": []
   },
   "outputs": [],
   "source": [
    "# Loading the Dataset\n",
    "file_path = \"merged_output.csv\"     # Path to the dataset\n",
    "data = pd.read_csv(file_path)"
   ]
  },
  {
   "cell_type": "code",
   "execution_count": 4,
   "id": "593bab94",
   "metadata": {},
   "outputs": [
    {
     "data": {
      "text/html": [
       "<div>\n",
       "<style scoped>\n",
       "    .dataframe tbody tr th:only-of-type {\n",
       "        vertical-align: middle;\n",
       "    }\n",
       "\n",
       "    .dataframe tbody tr th {\n",
       "        vertical-align: top;\n",
       "    }\n",
       "\n",
       "    .dataframe thead th {\n",
       "        text-align: right;\n",
       "    }\n",
       "</style>\n",
       "<table border=\"1\" class=\"dataframe\">\n",
       "  <thead>\n",
       "    <tr style=\"text-align: right;\">\n",
       "      <th></th>\n",
       "      <th>index</th>\n",
       "      <th>connection</th>\n",
       "      <th>timestamps</th>\n",
       "      <th>sizes</th>\n",
       "      <th>directions</th>\n",
       "      <th>file_name</th>\n",
       "    </tr>\n",
       "  </thead>\n",
       "  <tbody>\n",
       "    <tr>\n",
       "      <th>0</th>\n",
       "      <td>1</td>\n",
       "      <td>('10.184.62.19', 61599, '3.33.252.61', 443, 'T...</td>\n",
       "      <td>1727358570.247294,1727358570.321135,1727358570...</td>\n",
       "      <td>[66, 54, 307, 54, 54]</td>\n",
       "      <td>[0, 1, 0, 1, 0]</td>\n",
       "      <td>google_browsing.pcap</td>\n",
       "    </tr>\n",
       "    <tr>\n",
       "      <th>1</th>\n",
       "      <td>2</td>\n",
       "      <td>('3.33.252.61', 443, '10.184.62.19', 61599, 'T...</td>\n",
       "      <td>1727358570.320960,1727358570.394823,1727358570...</td>\n",
       "      <td>[66, 54, 54]</td>\n",
       "      <td>[0, 0, 1]</td>\n",
       "      <td>google_browsing.pcap</td>\n",
       "    </tr>\n",
       "    <tr>\n",
       "      <th>2</th>\n",
       "      <td>3</td>\n",
       "      <td>('10.184.62.19', 61532, '10.10.1.5', 53, 'UDP')</td>\n",
       "      <td>1727358570.998294</td>\n",
       "      <td>[75]</td>\n",
       "      <td>[0]</td>\n",
       "      <td>google_browsing.pcap</td>\n",
       "    </tr>\n",
       "    <tr>\n",
       "      <th>3</th>\n",
       "      <td>4</td>\n",
       "      <td>('10.184.62.19', 51497, '10.10.1.5', 53, 'UDP')</td>\n",
       "      <td>1727358570.998542</td>\n",
       "      <td>[75]</td>\n",
       "      <td>[0]</td>\n",
       "      <td>google_browsing.pcap</td>\n",
       "    </tr>\n",
       "    <tr>\n",
       "      <th>4</th>\n",
       "      <td>5</td>\n",
       "      <td>('10.10.1.5', 53, '10.184.62.19', 61532, 'UDP')</td>\n",
       "      <td>1727358571.000310</td>\n",
       "      <td>[91]</td>\n",
       "      <td>[1]</td>\n",
       "      <td>google_browsing.pcap</td>\n",
       "    </tr>\n",
       "  </tbody>\n",
       "</table>\n",
       "</div>"
      ],
      "text/plain": [
       "   index                                         connection  \\\n",
       "0      1  ('10.184.62.19', 61599, '3.33.252.61', 443, 'T...   \n",
       "1      2  ('3.33.252.61', 443, '10.184.62.19', 61599, 'T...   \n",
       "2      3    ('10.184.62.19', 61532, '10.10.1.5', 53, 'UDP')   \n",
       "3      4    ('10.184.62.19', 51497, '10.10.1.5', 53, 'UDP')   \n",
       "4      5    ('10.10.1.5', 53, '10.184.62.19', 61532, 'UDP')   \n",
       "\n",
       "                                          timestamps                  sizes  \\\n",
       "0  1727358570.247294,1727358570.321135,1727358570...  [66, 54, 307, 54, 54]   \n",
       "1  1727358570.320960,1727358570.394823,1727358570...           [66, 54, 54]   \n",
       "2                                  1727358570.998294                   [75]   \n",
       "3                                  1727358570.998542                   [75]   \n",
       "4                                  1727358571.000310                   [91]   \n",
       "\n",
       "        directions             file_name  \n",
       "0  [0, 1, 0, 1, 0]  google_browsing.pcap  \n",
       "1        [0, 0, 1]  google_browsing.pcap  \n",
       "2              [0]  google_browsing.pcap  \n",
       "3              [0]  google_browsing.pcap  \n",
       "4              [1]  google_browsing.pcap  "
      ]
     },
     "execution_count": 4,
     "metadata": {},
     "output_type": "execute_result"
    }
   ],
   "source": [
    "data.head()"
   ]
  },
  {
   "cell_type": "markdown",
   "id": "b2bd98fb-030e-4eab-a303-b04df4084aca",
   "metadata": {
    "tags": []
   },
   "source": [
    "### Preprocessing: convert string array to float"
   ]
  },
  {
   "cell_type": "code",
   "execution_count": 5,
   "id": "3d697562",
   "metadata": {},
   "outputs": [
    {
     "name": "stdout",
     "output_type": "stream",
     "text": [
      "<class 'pandas.core.frame.DataFrame'>\n",
      "RangeIndex: 4987 entries, 0 to 4986\n",
      "Data columns (total 6 columns):\n",
      " #   Column      Non-Null Count  Dtype \n",
      "---  ------      --------------  ----- \n",
      " 0   index       4987 non-null   int64 \n",
      " 1   connection  4987 non-null   object\n",
      " 2   timestamps  4987 non-null   object\n",
      " 3   sizes       4987 non-null   object\n",
      " 4   directions  4987 non-null   object\n",
      " 5   file_name   4987 non-null   object\n",
      "dtypes: int64(1), object(5)\n",
      "memory usage: 233.9+ KB\n"
     ]
    }
   ],
   "source": [
    "data.info()"
   ]
  },
  {
   "cell_type": "code",
   "execution_count": 6,
   "id": "b1e33e09-da31-430e-a1ce-105dbead86c4",
   "metadata": {
    "tags": []
   },
   "outputs": [
    {
     "name": "stdout",
     "output_type": "stream",
     "text": [
      "sizes\n",
      "directions\n"
     ]
    }
   ],
   "source": [
    "def get_float(str_array):\n",
    "    # Remove brackets and split the string by commas\n",
    "    cleaned_string = str_array.strip(\"[]\")  # Remove [ and ]\n",
    "    string_list = cleaned_string.split(\",\")    # Split by commas\n",
    "\n",
    "    # Convert to a NumPy array of floats\n",
    "    float_array = np.array(string_list, dtype=float)\n",
    "    return float_array \n",
    "\n",
    "for field in [\"sizes\", \"directions\"]:\n",
    "    print(field)\n",
    "    data[field] = data[field].apply(lambda x:  get_float(x))\n",
    "    "
   ]
  },
  {
   "cell_type": "code",
   "execution_count": 7,
   "id": "834c95a4",
   "metadata": {},
   "outputs": [
    {
     "data": {
      "text/html": [
       "<div>\n",
       "<style scoped>\n",
       "    .dataframe tbody tr th:only-of-type {\n",
       "        vertical-align: middle;\n",
       "    }\n",
       "\n",
       "    .dataframe tbody tr th {\n",
       "        vertical-align: top;\n",
       "    }\n",
       "\n",
       "    .dataframe thead th {\n",
       "        text-align: right;\n",
       "    }\n",
       "</style>\n",
       "<table border=\"1\" class=\"dataframe\">\n",
       "  <thead>\n",
       "    <tr style=\"text-align: right;\">\n",
       "      <th></th>\n",
       "      <th>index</th>\n",
       "      <th>connection</th>\n",
       "      <th>timestamps</th>\n",
       "      <th>sizes</th>\n",
       "      <th>directions</th>\n",
       "      <th>file_name</th>\n",
       "    </tr>\n",
       "  </thead>\n",
       "  <tbody>\n",
       "    <tr>\n",
       "      <th>0</th>\n",
       "      <td>1</td>\n",
       "      <td>('10.184.62.19', 61599, '3.33.252.61', 443, 'T...</td>\n",
       "      <td>1727358570.247294,1727358570.321135,1727358570...</td>\n",
       "      <td>[66.0, 54.0, 307.0, 54.0, 54.0]</td>\n",
       "      <td>[0.0, 1.0, 0.0, 1.0, 0.0]</td>\n",
       "      <td>google_browsing.pcap</td>\n",
       "    </tr>\n",
       "    <tr>\n",
       "      <th>1</th>\n",
       "      <td>2</td>\n",
       "      <td>('3.33.252.61', 443, '10.184.62.19', 61599, 'T...</td>\n",
       "      <td>1727358570.320960,1727358570.394823,1727358570...</td>\n",
       "      <td>[66.0, 54.0, 54.0]</td>\n",
       "      <td>[0.0, 0.0, 1.0]</td>\n",
       "      <td>google_browsing.pcap</td>\n",
       "    </tr>\n",
       "    <tr>\n",
       "      <th>2</th>\n",
       "      <td>3</td>\n",
       "      <td>('10.184.62.19', 61532, '10.10.1.5', 53, 'UDP')</td>\n",
       "      <td>1727358570.998294</td>\n",
       "      <td>[75.0]</td>\n",
       "      <td>[0.0]</td>\n",
       "      <td>google_browsing.pcap</td>\n",
       "    </tr>\n",
       "    <tr>\n",
       "      <th>3</th>\n",
       "      <td>4</td>\n",
       "      <td>('10.184.62.19', 51497, '10.10.1.5', 53, 'UDP')</td>\n",
       "      <td>1727358570.998542</td>\n",
       "      <td>[75.0]</td>\n",
       "      <td>[0.0]</td>\n",
       "      <td>google_browsing.pcap</td>\n",
       "    </tr>\n",
       "    <tr>\n",
       "      <th>4</th>\n",
       "      <td>5</td>\n",
       "      <td>('10.10.1.5', 53, '10.184.62.19', 61532, 'UDP')</td>\n",
       "      <td>1727358571.000310</td>\n",
       "      <td>[91.0]</td>\n",
       "      <td>[1.0]</td>\n",
       "      <td>google_browsing.pcap</td>\n",
       "    </tr>\n",
       "  </tbody>\n",
       "</table>\n",
       "</div>"
      ],
      "text/plain": [
       "   index                                         connection  \\\n",
       "0      1  ('10.184.62.19', 61599, '3.33.252.61', 443, 'T...   \n",
       "1      2  ('3.33.252.61', 443, '10.184.62.19', 61599, 'T...   \n",
       "2      3    ('10.184.62.19', 61532, '10.10.1.5', 53, 'UDP')   \n",
       "3      4    ('10.184.62.19', 51497, '10.10.1.5', 53, 'UDP')   \n",
       "4      5    ('10.10.1.5', 53, '10.184.62.19', 61532, 'UDP')   \n",
       "\n",
       "                                          timestamps  \\\n",
       "0  1727358570.247294,1727358570.321135,1727358570...   \n",
       "1  1727358570.320960,1727358570.394823,1727358570...   \n",
       "2                                  1727358570.998294   \n",
       "3                                  1727358570.998542   \n",
       "4                                  1727358571.000310   \n",
       "\n",
       "                             sizes                 directions  \\\n",
       "0  [66.0, 54.0, 307.0, 54.0, 54.0]  [0.0, 1.0, 0.0, 1.0, 0.0]   \n",
       "1               [66.0, 54.0, 54.0]            [0.0, 0.0, 1.0]   \n",
       "2                           [75.0]                      [0.0]   \n",
       "3                           [75.0]                      [0.0]   \n",
       "4                           [91.0]                      [1.0]   \n",
       "\n",
       "              file_name  \n",
       "0  google_browsing.pcap  \n",
       "1  google_browsing.pcap  \n",
       "2  google_browsing.pcap  \n",
       "3  google_browsing.pcap  \n",
       "4  google_browsing.pcap  "
      ]
     },
     "execution_count": 7,
     "metadata": {},
     "output_type": "execute_result"
    }
   ],
   "source": [
    "data.head()"
   ]
  },
  {
   "cell_type": "markdown",
   "id": "82a7fd03-5ce3-43c0-a25e-4bc275497260",
   "metadata": {},
   "source": [
    "### Column description\n",
    "- index: Index of the row (IGNORE)\n",
    "- connection: A tuple describing the connection (source IP, source port, destination IP, destination port, protocol).\n",
    "- timestamps: A list of timestamps indicating when packets for the connection were captured.\n",
    "- sizes: A list of packet sizes (in bytes) for the connection.\n",
    "- directions: A list indicating packet directions (1 for source-to-destination, 0 for destination-to-source).\n",
    "- file_names: The name of the PCAP file from which the data was extracted."
   ]
  },
  {
   "cell_type": "code",
   "execution_count": 8,
   "id": "e0b21af3-fab8-4983-9be4-366dfdc1fb88",
   "metadata": {
    "tags": []
   },
   "outputs": [
    {
     "name": "stdout",
     "output_type": "stream",
     "text": [
      "label\n",
      "google_browsing           2631\n",
      "google_drive_upl-dw        530\n",
      "streaming_spotify          466\n",
      "google_mail                454\n",
      "teams_messaging            380\n",
      "teams_call                 276\n",
      "streaming_amazon-prime     122\n",
      "streaming_hotstar           47\n",
      "streaming_netflix           46\n",
      "streaming_youtube           35\n",
      "Name: count, dtype: int64\n"
     ]
    }
   ],
   "source": [
    "label_col = \"label\"\n",
    "data[label_col] = data[\"file_name\"].apply(lambda x: x.replace(\".pcap\", \"\"))                # Extract label from the filename\n",
    "\n",
    "# Dropping Classes with Less Than 5 Instances\n",
    "class_counts = data[label_col].value_counts()                                               # generate series of class_count\n",
    "print(class_counts)\n",
    "data = data[data[label_col].isin(class_counts[class_counts > 5].index)]\n",
    "\n",
    "le = LabelEncoder()\n",
    "data[\"label_encoded\"] = le.fit_transform(data[\"label\"])"
   ]
  },
  {
   "cell_type": "code",
   "execution_count": null,
   "id": "bab403d0-074c-48f6-acb2-d502247bfcc0",
   "metadata": {
    "tags": []
   },
   "outputs": [],
   "source": [
    "data.head(5)"
   ]
  },
  {
   "cell_type": "code",
   "execution_count": null,
   "id": "d8b97399",
   "metadata": {},
   "outputs": [],
   "source": [
    "data.tail(5)"
   ]
  },
  {
   "cell_type": "code",
   "execution_count": 9,
   "id": "5c11694c",
   "metadata": {},
   "outputs": [
    {
     "name": "stdout",
     "output_type": "stream",
     "text": [
      "{'google_browsing': 0, 'google_drive_upl-dw': 1, 'google_mail': 2, 'streaming_amazon-prime': 3, 'streaming_hotstar': 4, 'streaming_netflix': 5, 'streaming_spotify': 6, 'streaming_youtube': 7, 'teams_call': 8, 'teams_messaging': 9}\n"
     ]
    }
   ],
   "source": [
    "# Hot encoding for labels\n",
    "print(dict(zip(le.classes_, range(len(le.classes_)))))"
   ]
  },
  {
   "cell_type": "code",
   "execution_count": null,
   "id": "90e8f4d1",
   "metadata": {},
   "outputs": [],
   "source": [
    "data[\"label\"].value_counts()"
   ]
  },
  {
   "cell_type": "code",
   "execution_count": 10,
   "id": "d5eb5ae3",
   "metadata": {},
   "outputs": [],
   "source": [
    "data = data.drop(columns=[\"file_name\"])"
   ]
  },
  {
   "cell_type": "code",
   "execution_count": null,
   "id": "6d3ffbfb",
   "metadata": {},
   "outputs": [],
   "source": [
    "print(data[\"sizes\"].head(5))\n",
    "\n",
    "# Check the data type of each entry in the 'sizes' column\n",
    "print(data[\"sizes\"].apply(type).value_counts())\n",
    "\n",
    "direction_example = data.loc[1, \"directions\"]\n",
    "print(direction_example)\n",
    "\n",
    "print(len(direction_example))"
   ]
  },
  {
   "cell_type": "code",
   "execution_count": 11,
   "id": "0f66d4ea-67e2-4d8f-99e2-97502f19dcce",
   "metadata": {
    "tags": []
   },
   "outputs": [],
   "source": [
    "def get_avg(x):\n",
    "    return np.mean(x)\n",
    "\n",
    "def get_std(x):\n",
    "    return np.std(x)\n",
    "\n",
    "def get_sum(x):\n",
    "    return np.sum(x)\n",
    "\n",
    "def get_duration(timestamps):\n",
    "    ts_list = list(map(float, timestamps.split(',')))  # Convert string to list of floats\n",
    "    return ts_list[-1] - ts_list[0] if len(ts_list) > 1 else 0\n",
    "\n",
    "def get_total_packets(sizes):\n",
    "    return len(sizes)\n",
    "\n",
    "def get_IAT(timestamps):\n",
    "    ts_list = list(map(float, timestamps.split(',')))  # Convert string to list of floats\n",
    "    if len(ts_list) > 1:\n",
    "        return np.diff(ts_list)\n",
    "    return []           # No IAT for single packet\n",
    "\n",
    "\n",
    "def get_mean_IAT(timestamps):\n",
    "    iat = get_IAT(timestamps)\n",
    "    return np.mean(iat)\n",
    "\n",
    "def get_std_dev_IAT(timestamps):\n",
    "    iat = get_IAT(timestamps)\n",
    "    return np.std(iat)"
   ]
  },
  {
   "cell_type": "code",
   "execution_count": 12,
   "id": "fefbb62e",
   "metadata": {},
   "outputs": [
    {
     "name": "stderr",
     "output_type": "stream",
     "text": [
      "c:\\Users\\manis\\AppData\\Local\\Programs\\Python\\Python312\\Lib\\site-packages\\numpy\\_core\\fromnumeric.py:3596: RuntimeWarning: Mean of empty slice.\n",
      "  return _methods._mean(a, axis=axis, dtype=dtype,\n",
      "c:\\Users\\manis\\AppData\\Local\\Programs\\Python\\Python312\\Lib\\site-packages\\numpy\\_core\\_methods.py:138: RuntimeWarning: invalid value encountered in scalar divide\n",
      "  ret = ret.dtype.type(ret / rcount)\n",
      "c:\\Users\\manis\\AppData\\Local\\Programs\\Python\\Python312\\Lib\\site-packages\\numpy\\_core\\_methods.py:218: RuntimeWarning: Degrees of freedom <= 0 for slice\n",
      "  ret = _var(a, axis=axis, dtype=dtype, out=out, ddof=ddof,\n",
      "c:\\Users\\manis\\AppData\\Local\\Programs\\Python\\Python312\\Lib\\site-packages\\numpy\\_core\\_methods.py:175: RuntimeWarning: invalid value encountered in divide\n",
      "  arrmean = um.true_divide(arrmean, div, out=arrmean,\n",
      "c:\\Users\\manis\\AppData\\Local\\Programs\\Python\\Python312\\Lib\\site-packages\\numpy\\_core\\_methods.py:210: RuntimeWarning: invalid value encountered in scalar divide\n",
      "  ret = ret.dtype.type(ret / rcount)\n"
     ]
    },
    {
     "data": {
      "text/html": [
       "<div>\n",
       "<style scoped>\n",
       "    .dataframe tbody tr th:only-of-type {\n",
       "        vertical-align: middle;\n",
       "    }\n",
       "\n",
       "    .dataframe tbody tr th {\n",
       "        vertical-align: top;\n",
       "    }\n",
       "\n",
       "    .dataframe thead th {\n",
       "        text-align: right;\n",
       "    }\n",
       "</style>\n",
       "<table border=\"1\" class=\"dataframe\">\n",
       "  <thead>\n",
       "    <tr style=\"text-align: right;\">\n",
       "      <th></th>\n",
       "      <th>index</th>\n",
       "      <th>connection</th>\n",
       "      <th>timestamps</th>\n",
       "      <th>sizes</th>\n",
       "      <th>directions</th>\n",
       "      <th>label</th>\n",
       "      <th>label_encoded</th>\n",
       "      <th>avg_pkt_size</th>\n",
       "      <th>stddev_pkt_size</th>\n",
       "      <th>total_size</th>\n",
       "      <th>flow_duration</th>\n",
       "      <th>total_packets</th>\n",
       "      <th>mean_IAT</th>\n",
       "      <th>stddev_IAT</th>\n",
       "    </tr>\n",
       "  </thead>\n",
       "  <tbody>\n",
       "    <tr>\n",
       "      <th>0</th>\n",
       "      <td>1</td>\n",
       "      <td>('10.184.62.19', 61599, '3.33.252.61', 443, 'T...</td>\n",
       "      <td>1727358570.247294,1727358570.321135,1727358570...</td>\n",
       "      <td>[66.0, 54.0, 307.0, 54.0, 54.0]</td>\n",
       "      <td>[0.0, 1.0, 0.0, 1.0, 0.0]</td>\n",
       "      <td>google_browsing</td>\n",
       "      <td>0</td>\n",
       "      <td>107.0</td>\n",
       "      <td>100.107942</td>\n",
       "      <td>535.0</td>\n",
       "      <td>0.147689</td>\n",
       "      <td>5</td>\n",
       "      <td>0.036922</td>\n",
       "      <td>0.036433</td>\n",
       "    </tr>\n",
       "    <tr>\n",
       "      <th>1</th>\n",
       "      <td>2</td>\n",
       "      <td>('3.33.252.61', 443, '10.184.62.19', 61599, 'T...</td>\n",
       "      <td>1727358570.320960,1727358570.394823,1727358570...</td>\n",
       "      <td>[66.0, 54.0, 54.0]</td>\n",
       "      <td>[0.0, 0.0, 1.0]</td>\n",
       "      <td>google_browsing</td>\n",
       "      <td>0</td>\n",
       "      <td>58.0</td>\n",
       "      <td>5.656854</td>\n",
       "      <td>174.0</td>\n",
       "      <td>0.146736</td>\n",
       "      <td>3</td>\n",
       "      <td>0.073368</td>\n",
       "      <td>0.000495</td>\n",
       "    </tr>\n",
       "    <tr>\n",
       "      <th>2</th>\n",
       "      <td>3</td>\n",
       "      <td>('10.184.62.19', 61532, '10.10.1.5', 53, 'UDP')</td>\n",
       "      <td>1727358570.998294</td>\n",
       "      <td>[75.0]</td>\n",
       "      <td>[0.0]</td>\n",
       "      <td>google_browsing</td>\n",
       "      <td>0</td>\n",
       "      <td>75.0</td>\n",
       "      <td>0.000000</td>\n",
       "      <td>75.0</td>\n",
       "      <td>0.000000</td>\n",
       "      <td>1</td>\n",
       "      <td>NaN</td>\n",
       "      <td>NaN</td>\n",
       "    </tr>\n",
       "    <tr>\n",
       "      <th>3</th>\n",
       "      <td>4</td>\n",
       "      <td>('10.184.62.19', 51497, '10.10.1.5', 53, 'UDP')</td>\n",
       "      <td>1727358570.998542</td>\n",
       "      <td>[75.0]</td>\n",
       "      <td>[0.0]</td>\n",
       "      <td>google_browsing</td>\n",
       "      <td>0</td>\n",
       "      <td>75.0</td>\n",
       "      <td>0.000000</td>\n",
       "      <td>75.0</td>\n",
       "      <td>0.000000</td>\n",
       "      <td>1</td>\n",
       "      <td>NaN</td>\n",
       "      <td>NaN</td>\n",
       "    </tr>\n",
       "  </tbody>\n",
       "</table>\n",
       "</div>"
      ],
      "text/plain": [
       "   index                                         connection  \\\n",
       "0      1  ('10.184.62.19', 61599, '3.33.252.61', 443, 'T...   \n",
       "1      2  ('3.33.252.61', 443, '10.184.62.19', 61599, 'T...   \n",
       "2      3    ('10.184.62.19', 61532, '10.10.1.5', 53, 'UDP')   \n",
       "3      4    ('10.184.62.19', 51497, '10.10.1.5', 53, 'UDP')   \n",
       "\n",
       "                                          timestamps  \\\n",
       "0  1727358570.247294,1727358570.321135,1727358570...   \n",
       "1  1727358570.320960,1727358570.394823,1727358570...   \n",
       "2                                  1727358570.998294   \n",
       "3                                  1727358570.998542   \n",
       "\n",
       "                             sizes                 directions  \\\n",
       "0  [66.0, 54.0, 307.0, 54.0, 54.0]  [0.0, 1.0, 0.0, 1.0, 0.0]   \n",
       "1               [66.0, 54.0, 54.0]            [0.0, 0.0, 1.0]   \n",
       "2                           [75.0]                      [0.0]   \n",
       "3                           [75.0]                      [0.0]   \n",
       "\n",
       "             label  label_encoded  avg_pkt_size  stddev_pkt_size  total_size  \\\n",
       "0  google_browsing              0         107.0       100.107942       535.0   \n",
       "1  google_browsing              0          58.0         5.656854       174.0   \n",
       "2  google_browsing              0          75.0         0.000000        75.0   \n",
       "3  google_browsing              0          75.0         0.000000        75.0   \n",
       "\n",
       "   flow_duration  total_packets  mean_IAT  stddev_IAT  \n",
       "0       0.147689              5  0.036922    0.036433  \n",
       "1       0.146736              3  0.073368    0.000495  \n",
       "2       0.000000              1       NaN         NaN  \n",
       "3       0.000000              1       NaN         NaN  "
      ]
     },
     "execution_count": 12,
     "metadata": {},
     "output_type": "execute_result"
    }
   ],
   "source": [
    "# Packet-level: avg, std packet sizes\n",
    "data[\"avg_pkt_size\"] = data[\"sizes\"].apply(get_avg)\n",
    "data[\"stddev_pkt_size\"] = data[\"sizes\"].apply(get_std)\n",
    "data[\"total_size\"] = data[\"sizes\"].apply(get_sum)\n",
    "\n",
    "\n",
    "\n",
    "# Flow duration, total data, total pkts\n",
    "data[\"flow_duration\"] = data[\"timestamps\"].apply(get_duration)\n",
    "data[\"total_packets\"] = data[\"sizes\"].apply(get_total_packets)\n",
    "\n",
    "\n",
    "\n",
    "# Intra-flow: mean and std of inter-arrival time or relative variance\n",
    "data[\"mean_IAT\"] = data[\"timestamps\"].apply(get_mean_IAT)\n",
    "data[\"stddev_IAT\"] = data[\"timestamps\"].apply(get_std_dev_IAT)\n",
    "\n",
    "data.head(4)"
   ]
  },
  {
   "cell_type": "code",
   "execution_count": 13,
   "id": "b4df81e3-4146-4a69-b0f2-3bf2bf2f040c",
   "metadata": {
    "tags": []
   },
   "outputs": [
    {
     "name": "stdout",
     "output_type": "stream",
     "text": [
      "(3576, 14)\n"
     ]
    }
   ],
   "source": [
    "feature_cols = [\"avg_pkt_size\", \"stddev_pkt_size\", \"total_size\", \"flow_duration\", \"mean_IAT\", \"stddev_IAT\"]  # Feature selection\n",
    "\n",
    "# Drop values with no data\n",
    "data_tmp = data.dropna()\n",
    "features = data_tmp[feature_cols]\n",
    "labels = data_tmp[\"label_encoded\"]\n",
    "print(data_tmp.shape)"
   ]
  },
  {
   "cell_type": "code",
   "execution_count": 14,
   "id": "16fa2428-93ca-4f64-a940-f6e967e9ff51",
   "metadata": {
    "tags": []
   },
   "outputs": [],
   "source": [
    "X_train, X_test, y_train, y_test = train_test_split(features, labels, test_size=0.3, random_state=42)\n",
    "scaler = StandardScaler()\n",
    "X_train = scaler.fit_transform(X_train)\n",
    "X_test = scaler.transform(X_test)"
   ]
  },
  {
   "cell_type": "code",
   "execution_count": 15,
   "id": "2dee8a91-f379-485a-98de-8cb8f6dcf57d",
   "metadata": {
    "tags": []
   },
   "outputs": [
    {
     "name": "stdout",
     "output_type": "stream",
     "text": [
      "                        precision    recall  f1-score   support\n",
      "\n",
      "       google_browsing       0.84      0.93      0.88       722\n",
      "   google_drive_upl-dw       0.48      0.51      0.49        96\n",
      "           google_mail       0.51      0.31      0.39        83\n",
      "streaming_amazon-prime       0.81      0.70      0.75        30\n",
      "     streaming_hotstar       0.18      0.29      0.22         7\n",
      "     streaming_netflix       0.40      0.20      0.27        10\n",
      "     streaming_spotify       0.63      0.45      0.53        53\n",
      "     streaming_youtube       0.00      0.00      0.00         5\n",
      "            teams_call       0.73      0.34      0.47        32\n",
      "       teams_messaging       0.41      0.26      0.32        35\n",
      "\n",
      "              accuracy                           0.76      1073\n",
      "             macro avg       0.50      0.40      0.43      1073\n",
      "          weighted avg       0.74      0.76      0.74      1073\n",
      "\n"
     ]
    }
   ],
   "source": [
    "# Simple Random Forest Classifier\n",
    "rf = RandomForestClassifier(n_estimators=100, random_state=42)\n",
    "rf.fit(X_train, y_train)\n",
    "\n",
    "y_pred = rf.predict(X_test)\n",
    "print(classification_report(y_test, y_pred, target_names=le.classes_))"
   ]
  },
  {
   "cell_type": "code",
   "execution_count": null,
   "id": "c91b2fe6",
   "metadata": {},
   "outputs": [],
   "source": [
    "param_grid = {\n",
    "    'n_estimators': [100, 200, 500],\n",
    "    'max_depth': [10, 20, 30, None],\n",
    "    'min_samples_split': [2, 5, 10],\n",
    "    'min_samples_leaf': [1, 2, 4],\n",
    "    'max_features': ['sqrt', 'log2']\n",
    "}\n",
    "\n",
    "# Initalizing the Random Forest Classifier\n",
    "rf = RandomForestClassifier(class_weight='balanced', random_state=42)\n",
    "\n",
    "# Performing Grid Search\n",
    "grid_search = GridSearchCV(rf, param_grid, cv=5, scoring='accuracy', n_jobs=-1)\n",
    "grid_search.fit(X_train, y_train)\n",
    "\n",
    "# Best Parameters\n",
    "print(\"Best Parameters:\", grid_search.best_params_)\n",
    "\n",
    "# Classification report\n",
    "best_model = grid_search.best_estimator_\n",
    "y_pred = best_model.predict(X_test)\n",
    "print(classification_report(y_test, y_pred, target_names=le.classes_))"
   ]
  },
  {
   "cell_type": "code",
   "execution_count": null,
   "id": "85931928",
   "metadata": {},
   "outputs": [],
   "source": [
    "from xgboost import XGBClassifier"
   ]
  },
  {
   "cell_type": "code",
   "execution_count": null,
   "id": "c5dd728c",
   "metadata": {},
   "outputs": [],
   "source": [
    "xgb = XGBClassifier(\n",
    "    n_estimators=500,\n",
    "    max_depth=30,\n",
    "    learning_rate=0.05,\n",
    "    scale_pos_weight=1.5,  # Helps with imbalance\n",
    "    random_state=42\n",
    ")\n",
    "\n",
    "xgb.fit(X_train, y_train)\n",
    "y_pred_xgb = xgb.predict(X_test)\n",
    "print(classification_report(y_test, y_pred_xgb, target_names=le.classes_))"
   ]
  },
  {
   "cell_type": "code",
   "execution_count": null,
   "id": "8cca810a",
   "metadata": {},
   "outputs": [],
   "source": [
    "from sklearn.model_selection import StratifiedKFold, cross_val_score"
   ]
  },
  {
   "cell_type": "code",
   "execution_count": null,
   "id": "7da278e0",
   "metadata": {},
   "outputs": [],
   "source": [
    "skf = StratifiedKFold(n_splits=5, shuffle=True, random_state=42)\n",
    "scores = cross_val_score(best_model, X_train, y_train, cv=skf, scoring='accuracy')\n",
    "\n",
    "print(\"Stratified K-Fold Accuracy:\", scores.mean())"
   ]
  },
  {
   "cell_type": "code",
   "execution_count": null,
   "id": "a2b9ae66-e61b-4488-9e8f-ecc553d93538",
   "metadata": {},
   "outputs": [],
   "source": [
    "# Confusion Matrix plot for RF\n",
    "cm = confusion_matrix(y_test, y_pred)\n",
    "plt.figure(figsize=(10, 7))\n",
    "sns.heatmap(cm, annot=True, fmt='d', cmap='Blues', xticklabels=le.classes_, yticklabels=le.classes_)\n",
    "plt.title(\"Confusion Matrix\")\n",
    "plt.xlabel(\"Predicted\")\n",
    "plt.ylabel(\"Actual\")\n",
    "plt.show()"
   ]
  },
  {
   "cell_type": "code",
   "execution_count": 16,
   "id": "dc48c00e-8424-4263-a596-c6c8842106cb",
   "metadata": {
    "tags": []
   },
   "outputs": [
    {
     "data": {
      "image/png": "[encoded data removed]",
      "text/plain": [
       "<Figure size 1200x800 with 1 Axes>"
      ]
     },
     "metadata": {},
     "output_type": "display_data"
    }
   ],
   "source": [
    "# Plot for Feature Importance\n",
    "importances = rf.feature_importances_\n",
    "feature_names = features.columns\n",
    "\n",
    "plt.figure(figsize=(12, 8))\n",
    "plt.barh(feature_names, importances, color='skyblue')\n",
    "plt.xlabel(\"Importance\")\n",
    "plt.ylabel(\"Feature\")\n",
    "plt.title(\"Feature Importance\")\n",
    "plt.show()"
   ]
  }
 ],
 "metadata": {
  "kernelspec": {
   "display_name": "Python 3",
   "language": "python",
   "name": "python3"
  },
  "language_info": {
   "codemirror_mode": {
    "name": "ipython",
    "version": 3
   },
   "file_extension": ".py",
   "mimetype": "text/x-python",
   "name": "python",
   "nbconvert_exporter": "python",
   "pygments_lexer": "ipython3",
   "version": "3.12.6"
  }
 },
 "nbformat": 4,
 "nbformat_minor": 5
}
